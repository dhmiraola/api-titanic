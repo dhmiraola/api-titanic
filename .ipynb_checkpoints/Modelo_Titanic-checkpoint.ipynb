{
 "cells": [
  {
   "cell_type": "code",
   "execution_count": null,
   "id": "c2b6e4e6-c670-4611-bbc3-d8a8501ae140",
   "metadata": {},
   "outputs": [],
   "source": [
    "import pandas as pd\n",
    "\n",
    "data = pd.read_csv('tested.csv')\n",
    "\n",
    "data.head()"
   ]
  },
  {
   "cell_type": "code",
   "execution_count": null,
   "id": "23640a36-a946-4894-9532-7eaf8d091db1",
   "metadata": {},
   "outputs": [],
   "source": [
    "# Eliminamos columnas no deseadas:\n",
    "data.drop([\"PassengerId\",\"Name\",\"Cabin\",\"Ticket\"],axis=1,inplace=True)\n",
    "data.head()"
   ]
  },
  {
   "cell_type": "code",
   "execution_count": null,
   "id": "064b6ee4-6c2e-4ce3-9b56-cfe320d904cc",
   "metadata": {},
   "outputs": [],
   "source": [
    "# Recuento de valores faltantes en cada columna:\n",
    "print(data.isnull().sum())"
   ]
  },
  {
   "cell_type": "code",
   "execution_count": null,
   "id": "78199937-03b4-415b-b72c-b129fa7ba4da",
   "metadata": {},
   "outputs": [],
   "source": [
    "data.shape"
   ]
  },
  {
   "cell_type": "code",
   "execution_count": null,
   "id": "b3a22aaa-876c-4db5-80e3-ca3022723860",
   "metadata": {},
   "outputs": [],
   "source": [
    "# Eliminación de filas con valores faltantes:\n",
    "data.dropna(subset=['Fare','Age'],inplace=True)\n",
    "print(data.isnull().sum())"
   ]
  },
  {
   "cell_type": "code",
   "execution_count": null,
   "id": "dd95bee2-0012-490d-9700-f21a2e4e49dc",
   "metadata": {},
   "outputs": [],
   "source": [
    "data.info()"
   ]
  },
  {
   "cell_type": "code",
   "execution_count": null,
   "id": "87341b4a-838c-497e-b923-0041868c6653",
   "metadata": {},
   "outputs": [],
   "source": [
    "data.shape"
   ]
  },
  {
   "cell_type": "code",
   "execution_count": null,
   "id": "d5820ed7-e67e-4f48-8111-a7d78fecc434",
   "metadata": {},
   "outputs": [],
   "source": [
    "# Codificación One hot encoding para variables categóricas\n",
    "# Creación Dymmies:\n",
    "dummies = pd.get_dummies(data.Sex)\n",
    "dummies2 = pd.get_dummies(data.Embarked)"
   ]
  },
  {
   "cell_type": "code",
   "execution_count": null,
   "id": "7100c996-1348-4dfb-817f-fdca85ec17d0",
   "metadata": {},
   "outputs": [],
   "source": [
    "# Agregamos el dataset de los dummies con el dataset original:\n",
    "new_df = pd.concat([data,dummies,dummies2],axis='columns')\n",
    "print(type(new_df))"
   ]
  },
  {
   "cell_type": "code",
   "execution_count": null,
   "id": "dac2d625-5993-4ee9-b6dd-9066cf58d9b6",
   "metadata": {},
   "outputs": [],
   "source": [
    "# Eliminamos columnas que no usaremos:\n",
    "new_df.drop(['Sex','Embarked'],axis='columns',inplace=True)\n",
    "print(new_df.head(10))\n",
    "\n",
    "new_df.info()"
   ]
  },
  {
   "cell_type": "code",
   "execution_count": null,
   "id": "3514319d-d114-46c5-bfb0-5d2b21b00b84",
   "metadata": {},
   "outputs": [],
   "source": [
    "data.head()"
   ]
  },
  {
   "cell_type": "code",
   "execution_count": null,
   "id": "e9962517-666b-4c95-b86f-7dca6f634c71",
   "metadata": {},
   "outputs": [],
   "source": [
    "from sklearn.ensemble import RandomForestClassifier\n",
    "\n",
    "\n",
    "# Dividimos el dataset en características y clase target:\n",
    "x = new_df[new_df.columns.difference(['Survived'])]\n",
    "y = new_df['Survived']\n",
    "\n",
    "classifier = RandomForestClassifier()\n",
    "classifier.fit(x, y)"
   ]
  },
  {
   "cell_type": "code",
   "execution_count": null,
   "id": "0105c128-2b24-48af-be1c-23aa3f36e1e9",
   "metadata": {},
   "outputs": [],
   "source": [
    "x.head()"
   ]
  },
  {
   "cell_type": "code",
   "execution_count": null,
   "id": "80a17b1a-0e66-48a0-ad26-a2df19c6e7f3",
   "metadata": {},
   "outputs": [],
   "source": [
    "import joblib\n",
    "\n",
    "classifier = RandomForestClassifier()\n",
    "classifier.fit(x, y)\n",
    "\n",
    "# guardamos\n",
    "joblib.dump(classifier, 'Titanic.pkl')"
   ]
  },
  {
   "cell_type": "code",
   "execution_count": null,
   "id": "9431c594-4ab7-4da6-b8bc-3cc5e2bf1afb",
   "metadata": {},
   "outputs": [],
   "source": [
    "print(x.columns.tolist())\n"
   ]
  },
  {
   "cell_type": "code",
   "execution_count": null,
   "id": "d2f819d7-2296-4530-9217-c19d87aa44ca",
   "metadata": {},
   "outputs": [],
   "source": [
    "import joblib\n",
    "\n",
    "classifier = joblib.load(\"Titanic.pkl\")\n",
    "\n",
    "df_prueba = pd.DataFrame([{\n",
    "    'Age': 34,\n",
    "    'C': False,\n",
    "    'Fare': 7.8292,\n",
    "    'Parch': 0,\n",
    "    'Pclass': 3,\n",
    "    'Q': True,\n",
    "    'S': False,\n",
    "    'SibSp': 0,\n",
    "    'female': False,\n",
    "    'male': True\n",
    "}])\n",
    "\n",
    "prediccion = classifier.predict(df_prueba)\n",
    "\n",
    "print(\"Predicción:\", prediccion)"
   ]
  },
  {
   "cell_type": "code",
   "execution_count": null,
   "id": "94803555-f978-414d-8bdf-3acdfc5ef12d",
   "metadata": {},
   "outputs": [],
   "source": []
  }
 ],
 "metadata": {
  "kernelspec": {
   "display_name": "Python 3 (ipykernel)",
   "language": "python",
   "name": "python3"
  },
  "language_info": {
   "codemirror_mode": {
    "name": "ipython",
    "version": 3
   },
   "file_extension": ".py",
   "mimetype": "text/x-python",
   "name": "python",
   "nbconvert_exporter": "python",
   "pygments_lexer": "ipython3",
   "version": "3.11.13"
  }
 },
 "nbformat": 4,
 "nbformat_minor": 5
}
